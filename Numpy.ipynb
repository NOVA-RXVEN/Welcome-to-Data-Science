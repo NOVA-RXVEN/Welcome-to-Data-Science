{
 "cells": [
  {
   "cell_type": "code",
   "execution_count": null,
   "id": "2e7e41e4",
   "metadata": {},
   "outputs": [],
   "source": [
    "import numpy as np"
   ]
  },
  {
   "cell_type": "code",
   "execution_count": null,
   "id": "60a30bbe",
   "metadata": {},
   "outputs": [
    {
     "name": "stdout",
     "output_type": "stream",
     "text": [
      "[1 3 5 7 9]\n"
     ]
    }
   ],
   "source": [
    "arr1=np.arange(1,11,2)\n",
    "print(arr1)"
   ]
  },
  {
   "cell_type": "code",
   "execution_count": 7,
   "id": "e16f09f1",
   "metadata": {},
   "outputs": [
    {
     "name": "stdout",
     "output_type": "stream",
     "text": [
      "25\n"
     ]
    }
   ],
   "source": [
    "print(np.multiply(5, 5))"
   ]
  },
  {
   "cell_type": "code",
   "execution_count": 8,
   "id": "1243cb25",
   "metadata": {},
   "outputs": [
    {
     "data": {
      "text/plain": [
       "dtype('int64')"
      ]
     },
     "execution_count": 8,
     "metadata": {},
     "output_type": "execute_result"
    }
   ],
   "source": [
    "arr1.dtype"
   ]
  },
  {
   "cell_type": "code",
   "execution_count": null,
   "id": "21a895b3",
   "metadata": {},
   "outputs": [
    {
     "name": "stdout",
     "output_type": "stream",
     "text": [
      "[('joe', 4, 5.5) ('mike', 5, 6.6) ('john', 6, 5.9) ('jack', 9, 5.2)]\n"
     ]
    }
   ],
   "source": [
    "students=[('joe', 4,5.5), ('mike', 5, 6.6), ('john',6,5.9), ('jack', 9, 5.2)]\n",
    "dtypes = [('name', 'U20'), ('grade', 'i4'), ('height', 'f4')]\n",
    "student_array = np.array(students, dtype=dtypes)\n",
    "\n",
    "print(student_array)"
   ]
  },
  {
   "cell_type": "code",
   "execution_count": 5,
   "id": "e9c8b358",
   "metadata": {},
   "outputs": [
    {
     "name": "stdout",
     "output_type": "stream",
     "text": [
      "18\n",
      "0\n",
      "81\n",
      "1.0\n"
     ]
    }
   ],
   "source": [
    "#After Class Project\n",
    "import numpy as np\n",
    "print(np.add(9, 9))\n",
    "print(np.subtract(9, 9))\n",
    "print(np.multiply(9, 9))\n",
    "print(np.divide(9, 9))"
   ]
  }
 ],
 "metadata": {
  "kernelspec": {
   "display_name": "Python 3",
   "language": "python",
   "name": "python3"
  },
  "language_info": {
   "codemirror_mode": {
    "name": "ipython",
    "version": 3
   },
   "file_extension": ".py",
   "mimetype": "text/x-python",
   "name": "python",
   "nbconvert_exporter": "python",
   "pygments_lexer": "ipython3",
   "version": "3.13.1"
  }
 },
 "nbformat": 4,
 "nbformat_minor": 5
}
